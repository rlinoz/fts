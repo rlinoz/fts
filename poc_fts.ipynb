{
 "cells": [
  {
   "cell_type": "markdown",
   "metadata": {},
   "source": [
    "# Full Text Search"
   ]
  },
  {
   "cell_type": "markdown",
   "metadata": {},
   "source": [
    "<div style=\"text-align:justify\">\n",
    "Este notebook implementa uma solução de FTS sem utilizar soluções de bancos de dados para busca textual. O objetivo é resolver o problema de busca textual em situações onde o conjunto de dados é pequeno e não vale a pena adotar uma solução robusta só pra isso.\n",
    "</div>"
   ]
  },
  {
   "cell_type": "markdown",
   "metadata": {},
   "source": [
    "### Carregando Pacotes"
   ]
  },
  {
   "cell_type": "code",
   "execution_count": 1,
   "metadata": {},
   "outputs": [],
   "source": [
    "import numpy as np\n",
    "import operator\n",
    "import math"
   ]
  },
  {
   "cell_type": "markdown",
   "metadata": {},
   "source": [
    "### Dicionário"
   ]
  },
  {
   "cell_type": "markdown",
   "metadata": {},
   "source": [
    "<div style=\"text-align:justify\">\n",
    "O dicionário é base para o cálculo de distância, através dele vamos registrar a frequência dos termos (TF-IDF) e criar uma visão vetorial dos dados a serem buscados. \n",
    "</div>"
   ]
  },
  {
   "cell_type": "code",
   "execution_count": 2,
   "metadata": {},
   "outputs": [],
   "source": [
    "base = ['a','b','c','d','e','f',\n",
    "        'g','h','i','j','k','l',\n",
    "        'm','n','o','p','q','r',\n",
    "        's','t','u','v','x','w',\n",
    "        'y','z',' ']"
   ]
  },
  {
   "cell_type": "markdown",
   "metadata": {},
   "source": [
    "### Base de Dados"
   ]
  },
  {
   "cell_type": "markdown",
   "metadata": {},
   "source": [
    "<div style=\"text-align:justify\">\n",
    "A base de dados, aqui representada por uma estrutura <code>dict</code>, corresponde aos recursos textuais onde as buscas serão realizadas. Um exemplo destes recursos textuais pode ser as funcionalidades de um aplicativo mobile. Veja:\n",
    "</div>"
   ]
  },
  {
   "cell_type": "code",
   "execution_count": 3,
   "metadata": {},
   "outputs": [],
   "source": [
    "data = {\n",
    "    'home': None,\n",
    "    'atualizar dados cadastrais': None,\n",
    "    'ativar cartao': None,\n",
    "    'texto de teste': None\n",
    "}\n",
    "\n",
    "for key in data:\n",
    "    data[key] = np.zeros(len(base)).tolist()"
   ]
  },
  {
   "cell_type": "markdown",
   "metadata": {},
   "source": [
    "### Cálculo TF-IDF"
   ]
  },
  {
   "cell_type": "markdown",
   "metadata": {},
   "source": [
    "<div style=\"text-align:justify\">\n",
    "A seguir, vamos criar um vetor de características baseadas na frequência de termos (TF-IDF). Note que cada item do nosso banco de recursos é representado por um vetor numérico:\n",
    "</div>"
   ]
  },
  {
   "cell_type": "code",
   "execution_count": 4,
   "metadata": {},
   "outputs": [],
   "source": [
    "for key in data:\n",
    "    for c in key:\n",
    "        i = base.index(c)\n",
    "        data[key][i] += 1"
   ]
  },
  {
   "cell_type": "markdown",
   "metadata": {},
   "source": [
    "### Função de Similaridade"
   ]
  },
  {
   "cell_type": "markdown",
   "metadata": {},
   "source": [
    "<div style=\"text-align:justify\">\n",
    "Vamos definir uma função de similaridade que estabeça uma relação de semelhança entre as informações registradas no banco de recursos e o texto de busca. Essa função se baseia na ortoganalidade cossenoidal de um ângulo entre dois vetores. Veja:  \n",
    "</div>"
   ]
  },
  {
   "cell_type": "markdown",
   "metadata": {},
   "source": [
    "<img src=\"similarity.png\" align=\"left\">"
   ]
  },
  {
   "cell_type": "code",
   "execution_count": 5,
   "metadata": {},
   "outputs": [],
   "source": [
    "def similarity(v1, v2):\n",
    "    sumxx, sumxy, sumyy = 0, 0, 0\n",
    "    for i in range(len(v1)):\n",
    "        x = v1[i]; y = v2[i]\n",
    "        sumxx += x*x\n",
    "        sumyy += y*y\n",
    "        sumxy += x*y\n",
    "\n",
    "    return sumxy / math.sqrt(sumxx*sumyy)"
   ]
  },
  {
   "cell_type": "markdown",
   "metadata": {},
   "source": [
    "<div style=\"text-align:justify\">\n",
    "Note que a função recebe dois vetores de tamanho N e retorna um número entre 0 e 1, que corresponde a similidade. Dois vetores iguais possuem máxima semelhança, ou seja, será similaridade 1.  \n",
    "</div>"
   ]
  },
  {
   "cell_type": "markdown",
   "metadata": {},
   "source": [
    "### Função de Transformação"
   ]
  },
  {
   "cell_type": "markdown",
   "metadata": {},
   "source": [
    "<div style=\"text-align:justify\">\n",
    "A função de transformação a seguir transforma o texto de busca digitado pelo usuário em um vetor de features de frequência (TF-IDF). Essa função servirá como uma função utilitária para a função de busca.\n",
    "</div>"
   ]
  },
  {
   "cell_type": "code",
   "execution_count": 6,
   "metadata": {},
   "outputs": [],
   "source": [
    "def text_to_array(text):\n",
    "    array = np.zeros(len(base)).tolist()\n",
    "    for c in text:\n",
    "        i = base.index(c)\n",
    "        array[i] += 1\n",
    "\n",
    "    return array"
   ]
  },
  {
   "cell_type": "markdown",
   "metadata": {},
   "source": [
    "### Função de Busca"
   ]
  },
  {
   "cell_type": "markdown",
   "metadata": {},
   "source": [
    "<div style=\"text-align:justify\">\n",
    "A função de busca recebe o texto digitado pelo usuário e devolve o dicionário de recursos ordenados pela similaridade. O termo mais parecido com o critério de busca possui maior similaridade.\n",
    "</div>"
   ]
  },
  {
   "cell_type": "code",
   "execution_count": 7,
   "metadata": {},
   "outputs": [],
   "source": [
    "def find(text):\n",
    "    result = {}\n",
    "    array= text_to_array(text)\n",
    "    for key in data:\n",
    "        result[key] = similarity(data[key], array)\n",
    "\n",
    "    return sorted(result.items(), key=operator.itemgetter(1), reverse = True)"
   ]
  },
  {
   "cell_type": "markdown",
   "metadata": {},
   "source": [
    "## Exemplos de Uso"
   ]
  },
  {
   "cell_type": "markdown",
   "metadata": {},
   "source": [
    "<div style=\"text-align:justify\">\n",
    "A seguir vamos apresentar dois exemplos de uso da solução de Full Text Search que desenvolvemos. É importante lembrar que o dicionário de dados compreende apenas caracteres não acentuados e em letras minúsculas. Números e caracteres especiais devem ser removidos do texto digitado pelo usuário, antes de realizar a busca. O texto também deve ter os caracteres em lower case e os acentos devem ser removidos.\n",
    "</div>"
   ]
  },
  {
   "cell_type": "markdown",
   "metadata": {},
   "source": [
    "### Exemplo 1: Busca por Termo"
   ]
  },
  {
   "cell_type": "code",
   "execution_count": 8,
   "metadata": {},
   "outputs": [
    {
     "data": {
      "text/plain": [
       "[('atualizar dados cadastrais', 0.8764598212022147),\n",
       " ('ativar cartao', 0.8221083073205848),\n",
       " ('texto de teste', 0.35),\n",
       " ('home', 0.15811388300841897)]"
      ]
     },
     "execution_count": 8,
     "metadata": {},
     "output_type": "execute_result"
    }
   ],
   "source": [
    "find('cadastro')"
   ]
  },
  {
   "cell_type": "markdown",
   "metadata": {},
   "source": [
    "### Exemplo 2: Busca por Termo"
   ]
  },
  {
   "cell_type": "code",
   "execution_count": 9,
   "metadata": {},
   "outputs": [
    {
     "data": {
      "text/plain": [
       "[('ativar cartao', 0.8933250005738371),\n",
       " ('atualizar dados cadastrais', 0.7692338911025561),\n",
       " ('texto de teste', 0.21128856368212914),\n",
       " ('home', 0.1336306209562122)]"
      ]
     },
     "execution_count": 9,
     "metadata": {},
     "output_type": "execute_result"
    }
   ],
   "source": [
    "find('ativacao')"
   ]
  },
  {
   "cell_type": "markdown",
   "metadata": {},
   "source": []
  }
 ],
 "metadata": {
  "kernelspec": {
   "display_name": "Python 3",
   "language": "python",
   "name": "python3"
  },
  "language_info": {
   "codemirror_mode": {
    "name": "ipython",
    "version": 3
   },
   "file_extension": ".py",
   "mimetype": "text/x-python",
   "name": "python",
   "nbconvert_exporter": "python",
   "pygments_lexer": "ipython3",
   "version": "3.5.2"
  }
 },
 "nbformat": 4,
 "nbformat_minor": 2
}
